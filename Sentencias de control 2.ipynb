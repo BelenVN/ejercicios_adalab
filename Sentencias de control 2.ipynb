{
 "cells": [
  {
   "cell_type": "markdown",
   "metadata": {},
   "source": [
    "SENTENCIAS DE CONTROL 2"
   ]
  },
  {
   "cell_type": "code",
   "execution_count": 1,
   "metadata": {},
   "outputs": [
    {
     "name": "stdout",
     "output_type": "stream",
     "text": [
      "La fruta de hoy es manzana\n",
      "La fruta de hoy es pera\n",
      "La fruta de hoy es uva\n"
     ]
    }
   ],
   "source": [
    "# Ejemplo bucle for con una lista de frutas, condicion binaria y comando print\n",
    "\n",
    "frutas = [\"manzana\", \"pera\", \"uva\"]\n",
    "\n",
    "for elemento in frutas:\n",
    "    print(\"La fruta de hoy es\", elemento)"
   ]
  },
  {
   "cell_type": "code",
   "execution_count": 1,
   "metadata": {},
   "outputs": [
    {
     "name": "stdout",
     "output_type": "stream",
     "text": [
      "Las notas que tienen notable son [7, 8, 9, 10]\n",
      "Las notas suspendidas son [1, 4, 4]\n",
      "Las notas suficientes son [5, 6]\n"
     ]
    }
   ],
   "source": [
    "# Vamos a asignar los elementos de una lista de notas de un examen a diferentes listas\n",
    "\n",
    "lista_notas = [1, 4, 5, 6, 7, 8, 9, 4, 10]\n",
    "\n",
    "notables = []\n",
    "suspensos = []\n",
    "suficientes = []\n",
    "\n",
    "for nota in lista_notas:\n",
    "\n",
    "    if nota >= 7:\n",
    "        notables.append(nota)\n",
    "    elif nota >= 5:\n",
    "        suficientes.append(nota)\n",
    "    else:\n",
    "        suspensos.append(nota)\n",
    "print(\"Las notas que tienen notable son\", notables)\n",
    "print(\"Las notas suspendidas son\", suspensos)\n",
    "print(\"Las notas suficientes son\", suficientes)"
   ]
  },
  {
   "cell_type": "code",
   "execution_count": 10,
   "metadata": {},
   "outputs": [
    {
     "name": "stdout",
     "output_type": "stream",
     "text": [
      "Estamos en primavera\n",
      "Estamos en verano\n",
      "Estamos en otoño\n",
      "Estamos en invierno\n"
     ]
    }
   ],
   "source": [
    "estaciones = [\"primavera\", \"verano\",\"otoño\",\"invierno\"]\n",
    "\n",
    "for estacion in estaciones:\n",
    "    print(f\"Estamos en {estacion}\")"
   ]
  },
  {
   "cell_type": "code",
   "execution_count": 12,
   "metadata": {},
   "outputs": [
    {
     "name": "stdout",
     "output_type": "stream",
     "text": [
      "p\n",
      "r\n",
      "i\n",
      "m\n",
      "a\n",
      "v\n",
      "e\n",
      "r\n",
      "a\n"
     ]
    }
   ],
   "source": [
    "# Cuando usamos for con una variable ¿string?\n",
    "estacion = \"primavera\"\n",
    "\n",
    "for string in estacion:\n",
    "    print(string)"
   ]
  },
  {
   "cell_type": "code",
   "execution_count": 13,
   "metadata": {},
   "outputs": [
    {
     "name": "stdout",
     "output_type": "stream",
     "text": [
      "El estado de la lista vacía es: [30]\n",
      "El estado de la lista vacía es: [30, 20]\n",
      "El estado de la lista vacía es: [30, 20, 40]\n",
      "El estado de la lista vacía es: [30, 20, 40, 20]\n",
      "El estado de la lista vacía es: [30, 20, 40, 20, 10]\n"
     ]
    }
   ],
   "source": [
    "# Al poner print dentro del for, vemos lo que va haciendo el for\n",
    "lista = [30, 20, 40, 20, 10]\n",
    "lista_añadidos = []\n",
    "\n",
    "for numero in lista:\n",
    "    lista_añadidos.append(numero)\n",
    "    print(\"El estado de la lista vacía es:\",lista_añadidos)"
   ]
  },
  {
   "cell_type": "code",
   "execution_count": 14,
   "metadata": {},
   "outputs": [
    {
     "name": "stdout",
     "output_type": "stream",
     "text": [
      "['MADRID', 'BARCELONA', 'SEVILLA', 'JAEN']\n"
     ]
    }
   ],
   "source": [
    "# Tengo una lista en minus y kiero con el for pasarlo a mayus\n",
    "lista = [\"madrid\",\"barcelona\",\"sevilla\",\"jaen\"]\n",
    "lista_mayusculas = []\n",
    "\n",
    "for ciudad in lista:\n",
    "    lista_mayusculas.append(ciudad.upper())\n",
    "\n",
    "print(lista_mayusculas)"
   ]
  },
  {
   "cell_type": "code",
   "execution_count": 21,
   "metadata": {},
   "outputs": [
    {
     "name": "stdout",
     "output_type": "stream",
     "text": [
      "laura\n",
      "bella\n",
      "167\n",
      "172\n",
      "('laura', 167)\n",
      "('bella', 172)\n"
     ]
    }
   ],
   "source": [
    "# Creamos dicc con nombres y alturas le deamos print\n",
    "\n",
    "lista_alturas = {\"laura\":167,\"bella\":172}\n",
    "\n",
    "#probamos un if basico con print, sólo nos dará los nombres (llaves, claves)\n",
    "\n",
    "for elemento in lista_alturas:\n",
    "    print(elemento)\n",
    "\n",
    "\n",
    "# Para imprimir los valores\n",
    "\n",
    "for elemento in lista_alturas.values():\n",
    "    print(elemento)\n",
    "\n",
    "\n",
    "# Para imprimir ambos\n",
    "\n",
    "for elemento in lista_alturas.items():\n",
    "    print(elemento)"
   ]
  },
  {
   "cell_type": "code",
   "execution_count": 23,
   "metadata": {},
   "outputs": [
    {
     "name": "stdout",
     "output_type": "stream",
     "text": [
      "range(3, 30)\n",
      "3\n",
      "4\n",
      "5\n",
      "6\n",
      "7\n",
      "8\n",
      "9\n",
      "10\n",
      "11\n",
      "12\n",
      "13\n",
      "14\n",
      "15\n",
      "16\n",
      "17\n",
      "18\n",
      "19\n",
      "20\n",
      "21\n",
      "22\n",
      "23\n",
      "24\n",
      "25\n",
      "26\n",
      "27\n",
      "28\n",
      "29\n"
     ]
    }
   ],
   "source": [
    "# Probamos el metodo RANGE\n",
    "\n",
    "lista_con_range = range(3,30)\n",
    "print(lista_con_range)\n",
    "\n",
    "\n",
    "# Probamos el metodo RANGE\n",
    "\n",
    "lista_con_range2 = range(3,30)\n",
    "\n",
    "for num in lista_con_range2:\n",
    "    print(num)"
   ]
  },
  {
   "cell_type": "code",
   "execution_count": 24,
   "metadata": {},
   "outputs": [
    {
     "name": "stdout",
     "output_type": "stream",
     "text": [
      "[10, 20, 30, 40, 50, 60, 70, 80, 90]\n"
     ]
    }
   ],
   "source": [
    "lista = []\n",
    "\n",
    "for num in range(1,10):\n",
    "    lista.append(num * 10)\n",
    "print(lista)"
   ]
  },
  {
   "cell_type": "code",
   "execution_count": null,
   "metadata": {},
   "outputs": [],
   "source": [
    "cuadro = []\n",
    "\n",
    "print(\"Cuadro\", cuadro)\n",
    "\n",
    "for num in range (51) # Cuando solo ponemos un número, significa que empieza en 0\n",
    "    cuadro.append(num**2)\n",
    "print(\"Lista nueva de potencias\",cuadro)"
   ]
  },
  {
   "cell_type": "code",
   "execution_count": 25,
   "metadata": {},
   "outputs": [
    {
     "name": "stdout",
     "output_type": "stream",
     "text": [
      "[0, 1, 4, 9, 16, 25, 36, 49, 64, 81, 100, 121, 144, 169, 196, 225, 256, 289, 324, 361, 400, 441, 484, 529, 576, 625, 676, 729, 784, 841, 900, 961, 1024, 1089, 1156, 1225, 1296, 1369, 1444, 1521, 1600, 1681, 1764, 1849, 1936, 2025, 2116, 2209, 2304, 2401, 2500]\n"
     ]
    }
   ],
   "source": [
    "# listade comprenhension\n",
    "\n",
    "list_comprenhension =[num ** 2 for num in range(51)]\n",
    "\n",
    "print(list_comprenhension)"
   ]
  }
 ],
 "metadata": {
  "kernelspec": {
   "display_name": "Python 3",
   "language": "python",
   "name": "python3"
  },
  "language_info": {
   "codemirror_mode": {
    "name": "ipython",
    "version": 3
   },
   "file_extension": ".py",
   "mimetype": "text/x-python",
   "name": "python",
   "nbconvert_exporter": "python",
   "pygments_lexer": "ipython3",
   "version": "3.11.9"
  }
 },
 "nbformat": 4,
 "nbformat_minor": 2
}
