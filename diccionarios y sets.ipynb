{
 "cells": [
  {
   "cell_type": "markdown",
   "metadata": {},
   "source": [
    "DICCIONARIOS"
   ]
  },
  {
   "cell_type": "code",
   "execution_count": 2,
   "metadata": {},
   "outputs": [
    {
     "name": "stdout",
     "output_type": "stream",
     "text": [
      "{'janury': 'enero', 'february': 'febrero', 'march': 'marzo'}\n"
     ]
    }
   ],
   "source": [
    "# Definimos un dicionario de nombres y edades\n",
    "\n",
    "clase_uno = {\"laura\":21,\"maria\":45,\"belen\":27}\n",
    "\n",
    "# Definimos un diccionario de meses en inglés y castellano pero usando función dict: con = y paréntesis\n",
    "dicc_meses = dict(janury=\"enero\",february=\"febrero\",march=\"marzo\")\n",
    "print(dicc_meses)"
   ]
  },
  {
   "cell_type": "code",
   "execution_count": 3,
   "metadata": {},
   "outputs": [
    {
     "name": "stdout",
     "output_type": "stream",
     "text": [
      "{'laura': 21, 'maria': 45, 'belen': 27}\n",
      "3\n",
      "esto es lo que hace la función keys:  dict_keys(['laura', 'maria', 'belen'])\n",
      "esto es lo que hace la función values:  dict_values([21, 45, 27])\n",
      "esto es lo que hace la función items:  dict_items([('laura', 21), ('maria', 45), ('belen', 27)])\n"
     ]
    }
   ],
   "source": [
    "# Probamos algunas propiedades con el diccionario que tenemos\n",
    "\n",
    "print(clase_uno)\n",
    "print(len(clase_uno))\n",
    "print(\"esto es lo que hace la función keys: \",clase_uno.keys()) # Nos devuelve solo las claves e neustro diccionario\n",
    "print(\"esto es lo que hace la función values: \",clase_uno.values()) # Nos devuelve los valores\n",
    "print(\"esto es lo que hace la función items: \",clase_uno.items()) # Nos devuelve claves y valores"
   ]
  },
  {
   "cell_type": "code",
   "execution_count": 4,
   "metadata": {},
   "outputs": [
    {
     "name": "stdout",
     "output_type": "stream",
     "text": [
      "La edad de Belén es  27\n",
      "La edad de Mariana es  None\n",
      "La edad de Mariana es  No existe esa usuaria\n",
      "La edad de Violeta es  32\n",
      "{'laura': 21, 'maria': 45, 'belen': 27, 'Violeta': 32}\n",
      "{'laura': 21, 'maria': 45, 'belen': 27}\n",
      "{}\n"
     ]
    }
   ],
   "source": [
    "# Probamos algunos metodos, pero siempre usando copias de nuestros diccionarios para poder ver\n",
    "\n",
    "clase_uno_copia = clase_uno.copy()\n",
    "clase_uno_copia2 = clase_uno.copy()\n",
    "print(\"La edad de Belén es \", clase_uno_copia.get(\"belen\"))\n",
    "\n",
    "# Si ponemos un valor que no existe, no crea el valor y no da resultado\n",
    "print(\"La edad de Mariana es \", clase_uno_copia.get(\"Mariana\"))\n",
    "\n",
    "# Si queremos que nos informe de que no hay resultado, añadimos la frase que deseamos\n",
    "print(\"La edad de Mariana es \", clase_uno_copia.get(\"Mariana\",\"No existe esa usuaria\"))\n",
    "\n",
    "# Vamos a añadir un nombre. Con setdefault, buscamos un ítem y, si no existe, lo crea\n",
    "print(\"La edad de Violeta es \", clase_uno_copia.setdefault(\"Violeta\",32))\n",
    "print(clase_uno_copia)\n",
    "\n",
    "# Vamos a limpiar completamente una lista\n",
    "print(clase_uno_copia2)\n",
    "\n",
    "clase_uno_copia2.clear()\n",
    "print(clase_uno_copia2)"
   ]
  },
  {
   "cell_type": "code",
   "execution_count": 5,
   "metadata": {},
   "outputs": [
    {
     "name": "stdout",
     "output_type": "stream",
     "text": [
      "None\n",
      "{'laura': 21, 'maria': 45, 'belen': 27, 'Violeta': 32, 'Estrella': 45, 'Ana': 57}\n"
     ]
    }
   ],
   "source": [
    "# Añadimos ítems al final de nuestro diccionario con update\n",
    "nuevo_miembro = {\"Estrella\":45,\"Ana\":57}\n",
    "print(clase_uno_copia.update(nuevo_miembro))\n",
    "print(clase_uno_copia)"
   ]
  },
  {
   "cell_type": "code",
   "execution_count": 6,
   "metadata": {},
   "outputs": [
    {
     "name": "stdout",
     "output_type": "stream",
     "text": [
      "Esto es lo que le ocurre a mi diccionario después del pop 21\n",
      "{'maria': 45, 'belen': 27}\n"
     ]
    }
   ],
   "source": [
    "# Probamos pop >>> es como remove pero pop te devuelve la información que queda en tu diccionario tras el borrado\n",
    "print(\"Esto es lo que le ocurre a mi diccionario después del pop\",clase_uno.pop(\"laura\"))\n",
    "print(clase_uno)"
   ]
  },
  {
   "cell_type": "markdown",
   "metadata": {},
   "source": [
    "SETS"
   ]
  },
  {
   "cell_type": "code",
   "execution_count": 7,
   "metadata": {},
   "outputs": [
    {
     "name": "stdout",
     "output_type": "stream",
     "text": [
      "¿Hay alguien con edad 22? False\n",
      "EL tipo de clase de\n"
     ]
    }
   ],
   "source": [
    "# Definimos set y probamos propiedades\n",
    "\n",
    "edades = {34, 67, 21, 87}\n",
    "print(\"¿Hay alguien con edad 22?\", 22 in edades)\n",
    "\n",
    "nombres = {\"maria\",\"marte\",\"jose\"}\n",
    "print(\"EL tipo de clase de\")"
   ]
  },
  {
   "cell_type": "code",
   "execution_count": 8,
   "metadata": {},
   "outputs": [
    {
     "name": "stdout",
     "output_type": "stream",
     "text": [
      "{34, 67, 21, 22, 87}\n"
     ]
    }
   ],
   "source": [
    "# Probamos ADD, añadir 1 dato\n",
    "edades.add(22)\n",
    "print(edades)"
   ]
  },
  {
   "cell_type": "code",
   "execution_count": 9,
   "metadata": {},
   "outputs": [
    {
     "name": "stdout",
     "output_type": "stream",
     "text": [
      "Set 1:  {0, 1, 2, 3, 5}\n",
      "Set 2:  {0, 2, 3, 4, 6}\n",
      "La unión de ambos sets es:  {0, 1, 2, 3, 4, 5, 6}\n",
      "El resultado de hacer intersección de ambos sets es:  {0, 2, 3}\n",
      "El resultado de hacer difference de ambos sets es:  {1, 5}\n",
      "El resultado de hacer symmetric_difference de ambos sets es:  {1, 4, 5, 6}\n",
      "El resultado de hacer issubset:  False\n"
     ]
    }
   ],
   "source": [
    "# Probamos operaciones\n",
    "set1 = {0,1,2,3,5}\n",
    "set2 = {0,2,3,4,6}\n",
    "\n",
    "print(\"Set 1: \",set1)\n",
    "print(\"Set 2: \",set2)\n",
    "\n",
    "# Como vemos en la unión no duplica valores y ordena\n",
    "print(\"La unión de ambos sets es: \",set1.union(set2))\n",
    "\n",
    "# Como vemos en la intersección se muestran los valores en repetidos\n",
    "print(\"El resultado de hacer intersección de ambos sets es: \",set1.intersection(set2))\n",
    "\n",
    "# Como vemos al usar difference, muestra los valores diferentes del set que hemos escogido  \n",
    "print(\"El resultado de hacer difference de ambos sets es: \",set1.difference(set2))\n",
    "\n",
    "# Como vemos al usar symmetric difference, muestra los valores diferentes de ambos sets \n",
    "print(\"El resultado de hacer symmetric_difference de ambos sets es: \",set1.symmetric_difference(set2))\n",
    "\n",
    "# Preguntamos si un set es subtipo del otro set  \n",
    "print(\"El resultado de hacer issubset: \",set1.issubset(set2))"
   ]
  }
 ],
 "metadata": {
  "kernelspec": {
   "display_name": "Python 3",
   "language": "python",
   "name": "python3"
  },
  "language_info": {
   "codemirror_mode": {
    "name": "ipython",
    "version": 3
   },
   "file_extension": ".py",
   "mimetype": "text/x-python",
   "name": "python",
   "nbconvert_exporter": "python",
   "pygments_lexer": "ipython3",
   "version": "3.11.9"
  }
 },
 "nbformat": 4,
 "nbformat_minor": 2
}
