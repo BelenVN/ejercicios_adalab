{
 "cells": [
  {
   "cell_type": "markdown",
   "metadata": {},
   "source": [
    "SENTENCIAS DE CONTROL"
   ]
  },
  {
   "cell_type": "code",
   "execution_count": 2,
   "metadata": {},
   "outputs": [
    {
     "name": "stdout",
     "output_type": "stream",
     "text": [
      "Son demasiadas\n"
     ]
    }
   ],
   "source": [
    "# Practicamos el input y el if. RECUERDA, el input se entiende como string, por lo que debemos convertirlo a int\n",
    "numero_peras = int(input(\"¿Cuántas peras quieres?\"))\n",
    "\n",
    "if numero_peras >= 5:\n",
    "    print(\"Son demasiadas\")\n",
    "else:\n",
    "    print(\"De acuerdo\")"
   ]
  },
  {
   "cell_type": "code",
   "execution_count": 1,
   "metadata": {},
   "outputs": [
    {
     "name": "stdout",
     "output_type": "stream",
     "text": [
      "Pide un aumento\n"
     ]
    }
   ],
   "source": [
    "# Practicamos if de manera básica con print\n",
    "tu_salario = 500\n",
    "\n",
    "if tu_salario > 350000:\n",
    "    print(\"Compra una casa\")\n",
    "else:\n",
    "    print(\"Pide un aumento\")"
   ]
  },
  {
   "cell_type": "code",
   "execution_count": 3,
   "metadata": {},
   "outputs": [],
   "source": [
    "# Probamos sentencia if sin escribir else: \n",
    "tu_salario = 500\n",
    "\n",
    "if tu_salario > 350000:\n",
    "    print(\"Compra una casa\")\n",
    "\n",
    "# no hace nada porque no le hemos dicho qué hacer"
   ]
  },
  {
   "cell_type": "code",
   "execution_count": 5,
   "metadata": {},
   "outputs": [
    {
     "name": "stdout",
     "output_type": "stream",
     "text": [
      "['peras']\n"
     ]
    }
   ],
   "source": [
    "# En lugar de print, probamos otra acción, como añadir elementos a una lista\n",
    "\n",
    "lista_compra =[]\n",
    "numero_peras = int(input(\"¿Cuántas peras tienes\"))\n",
    "\n",
    "if numero_peras < 7:\n",
    "    lista_compra.append(\"Peras\")\n",
    "\n",
    "print(lista_compra)\n"
   ]
  },
  {
   "cell_type": "code",
   "execution_count": 7,
   "metadata": {},
   "outputs": [
    {
     "name": "stdout",
     "output_type": "stream",
     "text": [
      "['Mas peras']\n",
      "2\n"
     ]
    }
   ],
   "source": [
    "# PRObamos if con otro tipo de oración binaria como \"in\" y otro tipo de comando como suma\n",
    "\n",
    "peras_almacen = 2\n",
    "lista_compra= []\n",
    "numero_peras = int(input(\"¿Cuántas peras tienes\"))\n",
    "if \"Pera\" in lista_compra:\n",
    "    peras_almacen += 1\n",
    "else:\n",
    "    lista_compra.append(\"Mas peras\")\n",
    "\n",
    "    print(lista_compra)\n",
    "    print(peras_almacen)"
   ]
  },
  {
   "cell_type": "code",
   "execution_count": 12,
   "metadata": {},
   "outputs": [
    {
     "name": "stdout",
     "output_type": "stream",
     "text": [
      "Eres adulta\n"
     ]
    }
   ],
   "source": [
    "# probamos primer if elif con print, ejemplo edad\n",
    "\n",
    "edad = int(input(\"¿Qué edad tienes\"))\n",
    "\n",
    "if edad > 18:\n",
    "    print(\"Eres adulta\")\n",
    "elif edad > 11:\n",
    "    print(\"Eres adolescente\")\n",
    "else:\n",
    "    print(\"Eres una niña\")"
   ]
  },
  {
   "cell_type": "markdown",
   "metadata": {},
   "source": [
    "USAR IF DE FORMA ANIDADA"
   ]
  },
  {
   "cell_type": "code",
   "execution_count": 15,
   "metadata": {},
   "outputs": [
    {
     "ename": "ValueError",
     "evalue": "invalid literal for int() with base 10: 'alto'",
     "output_type": "error",
     "traceback": [
      "\u001b[1;31m---------------------------------------------------------------------------\u001b[0m",
      "\u001b[1;31mValueError\u001b[0m                                Traceback (most recent call last)",
      "Cell \u001b[1;32mIn[15], line 4\u001b[0m\n\u001b[0;32m      1\u001b[0m \u001b[38;5;66;03m# sE PEDE UAR SNTENCIA IF DENTRO DE OTRA\u001b[39;00m\n\u001b[0;32m      3\u001b[0m edad \u001b[38;5;241m=\u001b[39m \u001b[38;5;28minput\u001b[39m(\u001b[38;5;124m\"\u001b[39m\u001b[38;5;124m¿Cuántos años tienes?\u001b[39m\u001b[38;5;124m\"\u001b[39m)\n\u001b[1;32m----> 4\u001b[0m nivel_estudios\u001b[38;5;241m=\u001b[39m nivel_estudios \u001b[38;5;241m=\u001b[39m \u001b[38;5;28;43mint\u001b[39;49m\u001b[43m(\u001b[49m\u001b[38;5;28;43minput\u001b[39;49m\u001b[43m(\u001b[49m\u001b[38;5;124;43m\"\u001b[39;49m\u001b[38;5;124;43mIndica tu nivel de estudios: alto/bajo\u001b[39;49m\u001b[38;5;124;43m\"\u001b[39;49m\u001b[43m)\u001b[49m\u001b[43m)\u001b[49m\n\u001b[0;32m      6\u001b[0m \u001b[38;5;28;01mif\u001b[39;00m edad \u001b[38;5;241m>\u001b[39m\u001b[38;5;241m=\u001b[39m \u001b[38;5;241m20\u001b[39m:\n\u001b[0;32m      7\u001b[0m     \u001b[38;5;28;01mif\u001b[39;00m nivel_estudios \u001b[38;5;241m==\u001b[39m \u001b[38;5;124m\"\u001b[39m\u001b[38;5;124mbajo\u001b[39m\u001b[38;5;124m\"\u001b[39m:\n",
      "\u001b[1;31mValueError\u001b[0m: invalid literal for int() with base 10: 'alto'"
     ]
    }
   ],
   "source": [
    "# SE PUEDE USAR SENTENCIA IF DENTRO DE OTRA\n",
    "\n",
    "edad = input(\"¿Cuántos años tienes?\")\n",
    "nivel_estudios= nivel_estudios = int(input(\"Indica tu nivel de estudios: alto/bajo\"))\n",
    "\n",
    "if edad >= 20:\n",
    "    if nivel_estudios == \"bajo\":\n",
    "        print(\"Busca trabajo\")\n",
    "    else:\n",
    "        print(\"Tiene trabajo\")\n",
    "\n",
    "else:\n",
    "    print(\"Todavía no trabaja\")"
   ]
  },
  {
   "cell_type": "code",
   "execution_count": 18,
   "metadata": {},
   "outputs": [
    {
     "ename": "ValueError",
     "evalue": "invalid literal for int() with base 10: 'bajo'",
     "output_type": "error",
     "traceback": [
      "\u001b[1;31m---------------------------------------------------------------------------\u001b[0m",
      "\u001b[1;31mValueError\u001b[0m                                Traceback (most recent call last)",
      "Cell \u001b[1;32mIn[18], line 4\u001b[0m\n\u001b[0;32m      1\u001b[0m \u001b[38;5;66;03m# Probamos\u001b[39;00m\n\u001b[0;32m      3\u001b[0m edad \u001b[38;5;241m=\u001b[39m \u001b[38;5;28minput\u001b[39m(\u001b[38;5;124m\"\u001b[39m\u001b[38;5;124m¿Cuántos años tienes?\u001b[39m\u001b[38;5;124m\"\u001b[39m)\n\u001b[1;32m----> 4\u001b[0m nivel_estudios\u001b[38;5;241m=\u001b[39m nivel_estudios \u001b[38;5;241m=\u001b[39m \u001b[38;5;28;43mint\u001b[39;49m\u001b[43m(\u001b[49m\u001b[38;5;28;43minput\u001b[39;49m\u001b[43m(\u001b[49m\u001b[38;5;124;43m\"\u001b[39;49m\u001b[38;5;124;43mIndica tu nivel de estudios: alto/bajo\u001b[39;49m\u001b[38;5;124;43m\"\u001b[39;49m\u001b[43m)\u001b[49m\u001b[43m)\u001b[49m\n\u001b[0;32m      6\u001b[0m \u001b[38;5;28;01mif\u001b[39;00m edad \u001b[38;5;241m>\u001b[39m\u001b[38;5;241m=\u001b[39m \u001b[38;5;241m20\u001b[39m \u001b[38;5;129;01mand\u001b[39;00m nivel_estudios \u001b[38;5;241m==\u001b[39m \u001b[38;5;124m\"\u001b[39m\u001b[38;5;124mbajo\u001b[39m\u001b[38;5;124m\"\u001b[39m:\n\u001b[0;32m      7\u001b[0m     \u001b[38;5;28mprint\u001b[39m(\u001b[38;5;124m\"\u001b[39m\u001b[38;5;124mBusca trabajo\u001b[39m\u001b[38;5;124m\"\u001b[39m)\n",
      "\u001b[1;31mValueError\u001b[0m: invalid literal for int() with base 10: 'bajo'"
     ]
    }
   ],
   "source": [
    "# Probamos\n",
    "\n",
    "edad = input(\"¿Cuántos años tienes?\")\n",
    "nivel_estudios= nivel_estudios = int(input(\"Indica tu nivel de estudios: alto/bajo\"))\n",
    "\n",
    "if edad >= 20 and nivel_estudios == \"bajo\":\n",
    "    print(\"Busca trabajo\")\n",
    "elif edad >= 20 and nivel_estudios != \"bajo\":\n",
    "    print(\"Tiene trabajo\")\n",
    "else:\n",
    "    print(\"Todavía estudia\")"
   ]
  },
  {
   "cell_type": "code",
   "execution_count": 20,
   "metadata": {},
   "outputs": [],
   "source": [
    "# probamos while con un ejemplo básico, esto sería un bucle\n",
    "\n",
    "#edad = 20\n",
    "#while edad == 21:\n",
    "#    print(\"Tienes 21 años\")\n",
    "#else:\n",
    "#    print(\"No tienes 21 años\")..."
   ]
  },
  {
   "cell_type": "code",
   "execution_count": 21,
   "metadata": {},
   "outputs": [
    {
     "name": "stdout",
     "output_type": "stream",
     "text": [
      "Número incorreco, prueba otra vez\n",
      "¡Felicidades! Adivinaste el número secreto en 2 intentos\n"
     ]
    }
   ],
   "source": [
    "numero_secreto = 8\n",
    "intentos = 0\n",
    "adivinado = False\n",
    "\n",
    "while not adivinado:\n",
    "    intento = int(input(\"Adivina el número secreto:\"))\n",
    "    intentos += 1\n",
    "\n",
    "    if intento == numero_secreto:\n",
    "        print(\"¡Felicidades! Adivinaste el número secreto en\", intentos, \"intentos\")\n",
    "        adivinado = True\n",
    "    else:\n",
    "        print(\"Número incorreco, prueba otra vez\")\n"
   ]
  },
  {
   "cell_type": "code",
   "execution_count": null,
   "metadata": {},
   "outputs": [],
   "source": []
  }
 ],
 "metadata": {
  "kernelspec": {
   "display_name": "Python 3",
   "language": "python",
   "name": "python3"
  },
  "language_info": {
   "codemirror_mode": {
    "name": "ipython",
    "version": 3
   },
   "file_extension": ".py",
   "mimetype": "text/x-python",
   "name": "python",
   "nbconvert_exporter": "python",
   "pygments_lexer": "ipython3",
   "version": "3.11.9"
  }
 },
 "nbformat": 4,
 "nbformat_minor": 2
}
