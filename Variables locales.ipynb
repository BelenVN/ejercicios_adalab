{
 "cells": [
  {
   "cell_type": "markdown",
   "metadata": {},
   "source": []
  },
  {
   "cell_type": "code",
   "execution_count": 1,
   "metadata": {},
   "outputs": [
    {
     "name": "stdout",
     "output_type": "stream",
     "text": [
      "Bienvenida\n"
     ]
    }
   ],
   "source": [
    "# Creamos nuestra primera funcion\n",
    "def mi_primera_funcion():\n",
    "    variable_local = \"Bienvenida\"\n",
    "    return variable_local\n",
    "\n",
    "print(mi_primera_funcion())"
   ]
  },
  {
   "cell_type": "code",
   "execution_count": 5,
   "metadata": {},
   "outputs": [
    {
     "name": "stdout",
     "output_type": "stream",
     "text": [
      "6\n"
     ]
    }
   ],
   "source": [
    "def multi(num1,num2):\n",
    "    return num1*num2\n",
    "resultado = multi(2,3)\n",
    "print(resultado)"
   ]
  },
  {
   "cell_type": "code",
   "execution_count": 11,
   "metadata": {},
   "outputs": [
    {
     "name": "stdout",
     "output_type": "stream",
     "text": [
      "[]\n"
     ]
    }
   ],
   "source": [
    "lista = [1,2,3,4,5,6,7,8,9]\n",
    "lista_pares = []\n",
    "\n",
    "def pares():\n",
    "    for num in lista:\n",
    "        if num % 2 == 0:\n",
    "            lista_pares.append(num)\n",
    "        else:\n",
    "            pass\n",
    "        return lista_pares\n",
    "\n",
    "print(pares())"
   ]
  },
  {
   "cell_type": "code",
   "execution_count": 13,
   "metadata": {},
   "outputs": [
    {
     "name": "stdout",
     "output_type": "stream",
     "text": [
      "10\n"
     ]
    }
   ],
   "source": [
    "def suma(num1,num2):\n",
    "    suma_numeros = num1 + num2\n",
    "    return(suma_numeros)\n",
    "\n",
    "print(suma(6,4))"
   ]
  },
  {
   "cell_type": "code",
   "execution_count": 28,
   "metadata": {},
   "outputs": [
    {
     "data": {
      "text/plain": [
       "[30, 52, 68]"
      ]
     },
     "execution_count": 28,
     "metadata": {},
     "output_type": "execute_result"
    }
   ],
   "source": [
    "# Usamos funcion que hace una lista de numeros pares de una lista de numeros\n",
    "\n",
    "def pares3(lista_completa):\n",
    "    lista_pares = []\n",
    "    for num in lista_completa:\n",
    "        if num % 2 == 0:\n",
    "            lista_pares.append(num)\n",
    "    else:\n",
    "        pass\n",
    "    return lista_pares\n",
    "mi_lista =[30,41,51]\n",
    "pares3(mi_lista)\n",
    "mi_lista =[30,41,52,68]\n",
    "pares3(mi_lista)\n"
   ]
  },
  {
   "cell_type": "code",
   "execution_count": 29,
   "metadata": {},
   "outputs": [
    {
     "name": "stdout",
     "output_type": "stream",
     "text": [
      "[26, 28, 24]\n"
     ]
    }
   ],
   "source": [
    "edades = [25,26,29,28,23,24]\n",
    "print(pares3(edades))"
   ]
  }
 ],
 "metadata": {
  "kernelspec": {
   "display_name": "Python 3",
   "language": "python",
   "name": "python3"
  },
  "language_info": {
   "codemirror_mode": {
    "name": "ipython",
    "version": 3
   },
   "file_extension": ".py",
   "mimetype": "text/x-python",
   "name": "python",
   "nbconvert_exporter": "python",
   "pygments_lexer": "ipython3",
   "version": "3.11.9"
  }
 },
 "nbformat": 4,
 "nbformat_minor": 2
}
